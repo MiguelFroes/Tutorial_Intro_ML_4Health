{
  "cells": [
    {
      "cell_type": "markdown",
      "metadata": {
        "colab": {},
        "colab_type": "code",
        "id": "jk4rI_7iHNZ2"
      },
      "source": [
        "### **0. Install Packages**"
      ]
    },
    {
      "cell_type": "code",
      "execution_count": null,
      "metadata": {
        "colab": {},
        "colab_type": "code",
        "id": "jk4rI_7iHNZ2"
      },
      "outputs": [],
      "source": [
        "!pip install keras_tqdm\n",
        "!pip install matplotlib==3.1.0\n",
        "!pip uninstall -y keras-nightly\n",
        "!pip uninstall -y tensorflow\n",
        "!pip install h5py==2.10.0\n",
        "!pip install --upgrade tensorflow\n",
        "!pip install --upgrade keras\n",
        "!pip uninstall -y keras\n",
        "!pip install keras --upgrade"
      ]
    },
    {
      "cell_type": "markdown",
      "metadata": {
        "colab_type": "text",
        "id": "ypoA2hfRTGbH"
      },
      "source": [
        "### **Breast Cancer Wisconsin (Diagnostic) Data Set**\n",
        "Processing data from:\n",
        "\n",
        "https://archive.ics.uci.edu/ml/machine-learning-databases/breast-cancer-wisconsin/\n",
        "\n",
        "We read in the data and do some basic cleanup for missing values. For the description of the fields, see :\n",
        "\n",
        "https://archive.ics.uci.edu/ml/machine-learning-databases/breast-cancer-wisconsin/wdbc.names\n",
        "\n",
        "Features were computed from a digitized image of a fine needle aspirate (FNA) of a breast mass. They describe characteristics of the cell nuclei present in the image. In summary:\n",
        "```\n",
        " Sample code number          : Id number (not used and thus dropped)\n",
        " Clump Thickness             : 1–10\n",
        " Uniformity of Cell Size     : 1–10\n",
        " Uniformity of Cell Shape    : 1–10\n",
        " Marginal Adhesion           : 1–10\n",
        " Single Epithelial Cell Size : 1–10\n",
        " Bare Nuclei                 : 1–10\n",
        " Bland Chromatin             : 1–10\n",
        " Normal Nucleoli             : 1–10\n",
        " Mitoses                     : 1–10\n",
        " Class                       : 2 for benign, 4 for malignant\n",
        "```\n",
        "\n"
      ]
    },
    {
      "cell_type": "markdown",
      "metadata": {},
      "source": [
        "### **1. Load Data**"
      ]
    },
    {
      "cell_type": "code",
      "execution_count": null,
      "metadata": {
        "colab": {},
        "colab_type": "code",
        "gather": {
          "logged": 1634903615122
        },
        "id": "px-Xiuafg24y"
      },
      "outputs": [],
      "source": [
        "import pandas as pd\n",
        "data = pd.read_csv(\"https://archive.ics.uci.edu/ml/machine-learning-databases/breast-cancer-wisconsin/breast-cancer-wisconsin.data\", header = None)\n",
        "data = data.drop(data.columns[0], axis=1)\n",
        "data.head(10)"
      ]
    },
    {
      "cell_type": "markdown",
      "metadata": {
        "colab_type": "text",
        "id": "Rm3sAtn-vNzI"
      },
      "source": [
        "### **2. Data Cleaning and Preprocessing**"
      ]
    },
    {
      "cell_type": "code",
      "execution_count": 3,
      "metadata": {
        "gather": {
          "logged": 1634903618682
        },
        "jupyter": {
          "outputs_hidden": false,
          "source_hidden": false
        },
        "nteract": {
          "transient": {
            "deleting": false
          }
        }
      },
      "outputs": [],
      "source": [
        "df = pd.DataFrame(data)"
      ]
    },
    {
      "cell_type": "code",
      "execution_count": null,
      "metadata": {
        "gather": {
          "logged": 1634903620328
        },
        "jupyter": {
          "outputs_hidden": false,
          "source_hidden": false
        },
        "nteract": {
          "transient": {
            "deleting": false
          }
        }
      },
      "outputs": [],
      "source": [
        "df.describe()\n",
        "# Notice that column 6 is absent from describe meaning not all values are numbers."
      ]
    },
    {
      "cell_type": "code",
      "execution_count": null,
      "metadata": {
        "gather": {
          "logged": 1634903623273
        },
        "jupyter": {
          "outputs_hidden": false,
          "source_hidden": false
        },
        "nteract": {
          "transient": {
            "deleting": false
          }
        }
      },
      "outputs": [],
      "source": [
        "df[6].value_counts()\n",
        "# Column 6 has some \"?\" representing missing values."
      ]
    },
    {
      "cell_type": "code",
      "execution_count": null,
      "metadata": {
        "colab": {},
        "colab_type": "code",
        "gather": {
          "logged": 1634903631914
        },
        "id": "9batnYVgnT_g"
      },
      "outputs": [],
      "source": [
        "print(df.loc[df[6] == \"?\"].head(5))\n",
        "\n",
        "# We calculate the mean of that feature.\n",
        "df_6_without_missing_values = df[6].loc[df[6] != \"?\"]\n",
        "mean = df_6_without_missing_values.astype(int).mean()\n",
        "print(\"Mean value: \" + str(mean))\n",
        "\n",
        "# Replace missing values with mean value\n",
        "df[6] = df[6].replace(\"?\", mean)\n",
        "df[6] = df[6].astype(int)"
      ]
    },
    {
      "cell_type": "code",
      "execution_count": 7,
      "metadata": {
        "gather": {
          "logged": 1634903635607
        },
        "jupyter": {
          "outputs_hidden": false,
          "source_hidden": false
        },
        "nteract": {
          "transient": {
            "deleting": false
          }
        }
      },
      "outputs": [],
      "source": [
        "# Re-arranging labels 2 -> 0 and 4 -> 1\n",
        "df[10] = df[10].replace(2,0).replace(4,1)"
      ]
    },
    {
      "cell_type": "markdown",
      "metadata": {
        "colab_type": "text",
        "id": "mTw9dMYnvGTE"
      },
      "source": [
        "### **3. Exploratory Data Analysis (EDA)**"
      ]
    },
    {
      "cell_type": "code",
      "execution_count": null,
      "metadata": {
        "colab": {},
        "colab_type": "code",
        "gather": {
          "logged": 1634903643513
        },
        "id": "EQEuEVjuszOX"
      },
      "outputs": [],
      "source": [
        "# Give our columns a name\n",
        "names = [ \"ID\", \"Clump thickness\", \"Uniformity of Cell Size\", \"Uniformity of Cell Shape\", \"Marginal Adhesion\", \"Single Epithelial Cell Size\", \"Bare Nuclei\", \"Bland Chromatin\", \"Normal Nucleoli\", \"Mitoses\", \"Class\" ]\n",
        "df.columns = names[1:]\n",
        "\n",
        "import matplotlib.pyplot as plt\n",
        "# Histogram for each column\n",
        "hists = df.hist(bins=20, figsize=(15,20))\n",
        "# Correlation Matrix\n",
        "plt.matshow(df.corr())\n",
        "plt.show()"
      ]
    },
    {
      "cell_type": "code",
      "execution_count": null,
      "metadata": {
        "colab": {},
        "colab_type": "code",
        "gather": {
          "logged": 1634903709229
        },
        "id": "ByRXKjSAtS4x"
      },
      "outputs": [],
      "source": [
        "# Seaborn visualization library\n",
        "import seaborn as sns\n",
        "# Create the default pairplot\n",
        "sns.pairplot(df, hue = 'Class', diag_kind = 'kde',\n",
        "             plot_kws = {'alpha': 0.6, 's': 80, 'edgecolor': 'k'},\n",
        "             height = 4)\n",
        "\n",
        "# The diagonal diagrams describe the marginal distribution of the data in each column.\n",
        "# The other diagrams describe the relationship (or lack thereof) between two variable."
      ]
    },
    {
      "cell_type": "markdown",
      "metadata": {
        "nteract": {
          "transient": {
            "deleting": false
          }
        }
      },
      "source": [
        "### **4. Build Model**"
      ]
    },
    {
      "cell_type": "code",
      "execution_count": null,
      "metadata": {
        "colab": {},
        "colab_type": "code",
        "gather": {
          "logged": 1634903728498
        },
        "id": "5MEcNyj9UUU7"
      },
      "outputs": [],
      "source": [
        "# Using information from all columns (0-9) to predict target (column 10)\n",
        "X = df.iloc[:, :9]\n",
        "Y = df.iloc[:, 9]\n",
        "\n",
        "# Splitting between traning and testing\n",
        "from sklearn.model_selection import train_test_split\n",
        "X_train, X_test, Y_train, Y_test = train_test_split(X, Y, test_size = 0.2, random_state = 0)\n",
        "\n",
        "# Checking the shapes to get an understanding of the problem\n",
        "print( X_train.shape, X_test.shape )\n",
        "print( Y_train.shape, Y_test.shape )\n",
        "\n",
        "from sklearn.preprocessing import StandardScaler\n",
        "scaler = StandardScaler()\n",
        "X_train = scaler.fit_transform(X_train)\n",
        "X_test = scaler.transform(X_test)"
      ]
    },
    {
      "cell_type": "code",
      "execution_count": null,
      "metadata": {
        "colab": {},
        "colab_type": "code",
        "gather": {
          "logged": 1634904732801
        },
        "id": "DWn1_cKhw9lJ"
      },
      "outputs": [],
      "source": [
        "from tensorflow.python.keras.models import Sequential\n",
        "from tensorflow.python.keras.layers import Dense, Dropout\n",
        "from keras_tqdm import TQDMNotebookCallback\n",
        "\n",
        "model = Sequential()\n",
        "model.add(Dense(16, input_dim=(9), activation='relu'))\n",
        "model.add(Dropout(0.2))\n",
        "model.add(Dense(32, activation='relu'))\n",
        "model.add(Dropout(0.2))\n",
        "model.add(Dense(16, activation='relu'))\n",
        "model.add(Dropout(0.2))\n",
        "model.add(Dense(1, activation='sigmoid'))\n",
        "# Compile model\n",
        "model.compile(loss='mean_squared_error', optimizer='adam', metrics=['accuracy'])\n",
        "model.summary()\n",
        "\n",
        "history = model.fit(X_train, Y_train,batch_size=16,validation_split=0.2, epochs=100,verbose=2)\n"
      ]
    },
    {
      "cell_type": "markdown",
      "metadata": {},
      "source": [
        "### **5. Predictions**"
      ]
    },
    {
      "cell_type": "code",
      "execution_count": null,
      "metadata": {
        "colab": {},
        "colab_type": "code",
        "gather": {
          "logged": 1634904736145
        },
        "id": "dtJwonc4200T"
      },
      "outputs": [],
      "source": [
        "import seaborn as sns\n",
        "import matplotlib.pyplot as plt\n",
        "from sklearn.metrics import confusion_matrix\n",
        "\n",
        "Y_pred = model.predict(X_test,verbose=0)\n",
        "Y_pred = [ 1 if y>=0.5 else 0 for y in Y_pred]\n",
        "cm = confusion_matrix(Y_test, Y_pred)\n",
        "\n",
        "df_cm = pd.DataFrame(cm, index = [\"Benign\", \"Malign\"],\n",
        "                  columns = [\"Benign\", \"Malign\"])\n",
        "plt.figure(figsize = (10,7))\n",
        "sns.set(font_scale=1.4)\n",
        "sns.heatmap(df_cm, annot=True,annot_kws={\"size\": 16})\n",
        "plt.show()"
      ]
    },
    {
      "cell_type": "code",
      "execution_count": null,
      "metadata": {
        "gather": {
          "logged": 1634904740634
        },
        "jupyter": {
          "outputs_hidden": false,
          "source_hidden": false
        },
        "nteract": {
          "transient": {
            "deleting": false
          }
        }
      },
      "outputs": [],
      "source": [
        "import matplotlib.pyplot as plt\n",
        "\n",
        "plt.plot(history.history['accuracy'])\n",
        "plt.plot(history.history['val_accuracy'])\n",
        "plt.title('model accuracy')\n",
        "plt.ylabel('accuracy')\n",
        "plt.xlabel('epoch')\n",
        "plt.legend(['train', 'test'], loc='upper left')\n",
        "plt.show()\n",
        "# summarize history for loss\n",
        "plt.plot(history.history['loss'])\n",
        "plt.plot(history.history['val_loss'])\n",
        "plt.title('model loss')\n",
        "plt.ylabel('loss')\n",
        "plt.xlabel('epoch')\n",
        "plt.legend(['train', 'val'], loc='upper left')\n",
        "plt.show()"
      ]
    }
  ],
  "metadata": {
    "colab": {
      "collapsed_sections": [],
      "include_colab_link": true,
      "name": "Tutorial_1.ipynb",
      "provenance": []
    },
    "kernel_info": {
      "name": "python3"
    },
    "kernelspec": {
      "display_name": "Python 3",
      "language": "python",
      "name": "python3"
    },
    "language_info": {
      "codemirror_mode": {
        "name": "ipython",
        "version": 3
      },
      "file_extension": ".py",
      "mimetype": "text/x-python",
      "name": "python",
      "nbconvert_exporter": "python",
      "pygments_lexer": "ipython3",
      "version": "3.6.9"
    },
    "microsoft": {
      "host": {
        "AzureML": {
          "notebookHasBeenCompleted": true
        }
      }
    },
    "nteract": {
      "version": "nteract-front-end@1.0.0"
    }
  },
  "nbformat": 4,
  "nbformat_minor": 0
}
